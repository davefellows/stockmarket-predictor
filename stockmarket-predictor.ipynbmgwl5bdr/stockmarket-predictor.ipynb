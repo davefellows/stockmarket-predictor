{
 "cells": [
  {
   "cell_type": "code",
   "execution_count": 1,
   "metadata": {
    "collapsed": true
   },
   "outputs": [],
   "source": [
    "from datetime import datetime\n",
    "import pytest\n",
    "import pandas as pd\n",
    "from trainingData import trainingData\n",
    "\n",
    "predictionSymbol = '^GSPC' #symbol for S&P500\n",
    "startdate = datetime(2016,1,1)\n",
    "enddate = datetime(2016,1,31)\n",
    "index = 2\n",
    "delta = range(2, 3)\n",
    "lags = range(2, 3)"
   ]
  },
  {
   "cell_type": "code",
   "execution_count": 2,
   "metadata": {
    "collapsed": false
   },
   "outputs": [
    {
     "name": "stdout",
     "output_type": "stream",
     "text": [
      "got nasdaq\n",
      "got australia\n"
     ]
    }
   ],
   "source": [
    "td = trainingData()\n",
    "td.load(predictionSymbol, startdate, enddate, delta)"
   ]
  },
  {
   "cell_type": "code",
   "execution_count": 9,
   "metadata": {
    "collapsed": false
   },
   "outputs": [
    {
     "name": "stdout",
     "output_type": "stream",
     "text": [
      "['2016-01-06T13:00:00.000000000+1300' '2016-01-07T13:00:00.000000000+1300'\n",
      " '2016-01-08T13:00:00.000000000+1300' '2016-01-11T13:00:00.000000000+1300'\n",
      " '2016-01-12T13:00:00.000000000+1300' '2016-01-13T13:00:00.000000000+1300'\n",
      " '2016-01-14T13:00:00.000000000+1300' '2016-01-15T13:00:00.000000000+1300'\n",
      " '2016-01-19T13:00:00.000000000+1300' '2016-01-20T13:00:00.000000000+1300'\n",
      " '2016-01-21T13:00:00.000000000+1300' '2016-01-22T13:00:00.000000000+1300'\n",
      " '2016-01-25T13:00:00.000000000+1300' '2016-01-26T13:00:00.000000000+1300'\n",
      " '2016-01-27T13:00:00.000000000+1300' '2016-01-28T13:00:00.000000000+1300']\n"
     ]
    }
   ],
   "source": [
    "print(td.mergedTrainingData.index.values)\n",
    "#print(td.mergedTrainingData.values)"
   ]
  },
  {
   "cell_type": "code",
   "execution_count": 4,
   "metadata": {
    "collapsed": false
   },
   "outputs": [],
   "source": [
    "X_train, y_train, X_test, y_test = td.returnDataForClassification(datetime(2016,1,22))"
   ]
  },
  {
   "cell_type": "code",
   "execution_count": 8,
   "metadata": {
    "collapsed": false
   },
   "outputs": [
    {
     "data": {
      "text/plain": [
       "Date\n",
       "2016-01-22    0\n",
       "2016-01-25    1\n",
       "2016-01-26    0\n",
       "2016-01-27    1\n",
       "2016-01-28    1\n",
       "Name: UpDown, dtype: int64"
      ]
     },
     "execution_count": 8,
     "metadata": {},
     "output_type": "execute_result"
    }
   ],
   "source": [
    "y_test"
   ]
  },
  {
   "cell_type": "code",
   "execution_count": 12,
   "metadata": {
    "collapsed": false
   },
   "outputs": [
    {
     "ename": "NameError",
     "evalue": "name 'performRFClass' is not defined",
     "output_type": "error",
     "traceback": [
      "\u001b[1;31m---------------------------------------------------------------------------\u001b[0m",
      "\u001b[1;31mNameError\u001b[0m                                 Traceback (most recent call last)",
      "\u001b[1;32m<ipython-input-12-8b001601d74b>\u001b[0m in \u001b[0;36m<module>\u001b[1;34m()\u001b[0m\n\u001b[0;32m      1\u001b[0m \u001b[1;32mimport\u001b[0m \u001b[0malgorithms\u001b[0m\u001b[1;33m\u001b[0m\u001b[0m\n\u001b[1;32m----> 2\u001b[1;33m \u001b[0maccuracy\u001b[0m \u001b[1;33m=\u001b[0m \u001b[0mperformRFClass\u001b[0m\u001b[1;33m(\u001b[0m\u001b[0mX_train\u001b[0m\u001b[1;33m,\u001b[0m \u001b[0my_train\u001b[0m\u001b[1;33m,\u001b[0m \u001b[0mX_test\u001b[0m\u001b[1;33m,\u001b[0m \u001b[0my_test\u001b[0m\u001b[1;33m)\u001b[0m\u001b[1;33m\u001b[0m\u001b[0m\n\u001b[0m",
      "\u001b[1;31mNameError\u001b[0m: name 'performRFClass' is not defined"
     ]
    }
   ],
   "source": [
    "import algorithms as alg\n",
    "accuracy = alg.performRFClass(X_train, y_train, X_test, y_test)"
   ]
  },
  {
   "cell_type": "code",
   "execution_count": null,
   "metadata": {
    "collapsed": true
   },
   "outputs": [],
   "source": []
  }
 ],
 "metadata": {
  "anaconda-cloud": {},
  "kernelspec": {
   "display_name": "Python 3",
   "language": "python",
   "name": "python3"
  },
  "language_info": {
   "codemirror_mode": {
    "name": "ipython",
    "version": 3
   },
   "file_extension": ".py",
   "mimetype": "text/x-python",
   "name": "python",
   "nbconvert_exporter": "python",
   "pygments_lexer": "ipython3",
   "version": "3.4.3"
  }
 },
 "nbformat": 4,
 "nbformat_minor": 0
}
