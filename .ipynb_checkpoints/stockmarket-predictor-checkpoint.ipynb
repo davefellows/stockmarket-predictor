{
 "cells": [
  {
   "cell_type": "code",
   "execution_count": 1,
   "metadata": {
    "collapsed": false
   },
   "outputs": [
    {
     "name": "stdout",
     "output_type": "stream",
     "text": [
      "got nasdaq\n",
      "got sp500\n",
      "got volatility\n",
      "got australia\n",
      "got hkong\n"
     ]
    }
   ],
   "source": [
    "from datetime import datetime\n",
    "import pytest\n",
    "import pandas as pd\n",
    "from trainingData import trainingData\n",
    "\n",
    "predictionSymbol = '^GSPC' #'^GSPC' #'^IXIC' #symbol for S&P500 (^GSPC) or NASDAQ (^IXIC) or AUS ('^AXJO')\n",
    "startdate = datetime(2013,10,1)\n",
    "enddate = datetime(2016,10,11)\n",
    "teststartdate = datetime(2016,7,1)\n",
    "delta = range(2, 5)\n",
    "lags = range(2, 3)\n",
    "\n",
    "td = trainingData()\n",
    "td.load(predictionSymbol, startdate, enddate, delta, lags)"
   ]
  },
  {
   "cell_type": "code",
   "execution_count": 2,
   "metadata": {
    "collapsed": false
   },
   "outputs": [],
   "source": [
    "#ds = td.loadAllFromWeb(predictionSymbol, startdate, enddate)"
   ]
  },
  {
   "cell_type": "code",
   "execution_count": 3,
   "metadata": {
    "collapsed": false
   },
   "outputs": [],
   "source": [
    "#for column in ds[0].columns:\n",
    "#    ds[0][column] = ds[0][column].shift(1)\n",
    "#ds[0]"
   ]
  },
  {
   "cell_type": "code",
   "execution_count": 4,
   "metadata": {
    "collapsed": false
   },
   "outputs": [],
   "source": [
    "#import featureGenerator as fg\n",
    "#wfeat = fg.applyRollMeanDelayedReturns(ds, delta)"
   ]
  },
  {
   "cell_type": "code",
   "execution_count": 5,
   "metadata": {
    "collapsed": false
   },
   "outputs": [],
   "source": [
    "testsize = 0.1\n",
    "X_train, y_train, X_test, y_test = td.returnDataForClassification(teststartdate, testsize)"
   ]
  },
  {
   "cell_type": "code",
   "execution_count": 6,
   "metadata": {
    "collapsed": false
   },
   "outputs": [
    {
     "data": {
      "text/plain": [
       "69"
      ]
     },
     "execution_count": 6,
     "metadata": {},
     "output_type": "execute_result"
    }
   ],
   "source": [
    "y_test.size"
   ]
  },
  {
   "cell_type": "code",
   "execution_count": 8,
   "metadata": {
    "collapsed": false
   },
   "outputs": [
    {
     "name": "stdout",
     "output_type": "stream",
     "text": [
      "RFC = 0.550724637681\n",
      "KNN = 0.565217391304\n",
      "SVM = 0.579710144928\n",
      "ADA = 0.536231884058\n",
      "GTB = 0.492753623188\n",
      "MLP = 0.608695652174\n"
     ]
    }
   ],
   "source": [
    "# score accuracy of each algorithm\n",
    "import algorithms as alg\n",
    "accuracy = alg.performRFClass(X_train, y_train, X_test, y_test)\n",
    "print('RFC =', accuracy)\n",
    "accuracy = alg.performKNNClass(X_train, y_train, X_test, y_test)\n",
    "print('KNN =', accuracy)\n",
    "accuracy = alg.performSVMClass(X_train, y_train, X_test, y_test)\n",
    "print('SVM =', accuracy)\n",
    "accuracy = alg.performAdaBoostClass(X_train, y_train, X_test, y_test)\n",
    "print('ADA =', accuracy)\n",
    "accuracy = alg.performGTBClass(X_train, y_train, X_test, y_test)\n",
    "print('GTB =', accuracy)\n",
    "#accuracy = alg.performQDAClass(X_train, y_train, X_test, y_test)\n",
    "#print('QDA =', accuracy)\n",
    "accuracy, mlp = alg.performMLPClass(X_train, y_train, X_test, y_test, (5,6,2))\n",
    "print('MLP =', accuracy)"
   ]
  },
  {
   "cell_type": "code",
   "execution_count": 9,
   "metadata": {
    "collapsed": false
   },
   "outputs": [
    {
     "name": "stdout",
     "output_type": "stream",
     "text": [
      "got nasdaq\n",
      "got sp500\n",
      "got volatility\n",
      "got australia\n",
      "got hkong\n"
     ]
    },
    {
     "data": {
      "text/html": [
       "<div>\n",
       "<table border=\"1\" class=\"dataframe\">\n",
       "  <thead>\n",
       "    <tr style=\"text-align: right;\">\n",
       "      <th></th>\n",
       "      <th>Return_Out</th>\n",
       "      <th>OutTime2</th>\n",
       "      <th>OutRolMean2</th>\n",
       "      <th>OutTime3</th>\n",
       "      <th>OutRolMean3</th>\n",
       "      <th>OutTime4</th>\n",
       "      <th>OutRolMean4</th>\n",
       "      <th>Return_^AXJO</th>\n",
       "      <th>^AXJOTime2</th>\n",
       "      <th>^AXJORolMean2</th>\n",
       "      <th>...</th>\n",
       "      <th>^HSITime3</th>\n",
       "      <th>^HSIRolMean3</th>\n",
       "      <th>^HSITime4</th>\n",
       "      <th>^HSIRolMean4</th>\n",
       "      <th>Return_Out2</th>\n",
       "      <th>Return_^AXJO2</th>\n",
       "      <th>Return_^IXIC2</th>\n",
       "      <th>Return_^GSPC2</th>\n",
       "      <th>Return_^VIX2</th>\n",
       "      <th>Return_^HSI2</th>\n",
       "    </tr>\n",
       "    <tr>\n",
       "      <th>Date</th>\n",
       "      <th></th>\n",
       "      <th></th>\n",
       "      <th></th>\n",
       "      <th></th>\n",
       "      <th></th>\n",
       "      <th></th>\n",
       "      <th></th>\n",
       "      <th></th>\n",
       "      <th></th>\n",
       "      <th></th>\n",
       "      <th></th>\n",
       "      <th></th>\n",
       "      <th></th>\n",
       "      <th></th>\n",
       "      <th></th>\n",
       "      <th></th>\n",
       "      <th></th>\n",
       "      <th></th>\n",
       "      <th></th>\n",
       "      <th></th>\n",
       "      <th></th>\n",
       "    </tr>\n",
       "  </thead>\n",
       "  <tbody>\n",
       "    <tr>\n",
       "      <th>2016-10-07</th>\n",
       "      <td>0.004606</td>\n",
       "      <td>-0.002773</td>\n",
       "      <td>-0.001386</td>\n",
       "      <td>0.001511</td>\n",
       "      <td>0.000508</td>\n",
       "      <td>-0.003452</td>\n",
       "      <td>-0.000858</td>\n",
       "      <td>0.001463</td>\n",
       "      <td>-0.001386</td>\n",
       "      <td>-0.000691</td>\n",
       "      <td>...</td>\n",
       "      <td>-0.010038</td>\n",
       "      <td>-0.003325</td>\n",
       "      <td>-0.005906</td>\n",
       "      <td>-0.001450</td>\n",
       "      <td>0.000482</td>\n",
       "      <td>0.005520</td>\n",
       "      <td>0.004983</td>\n",
       "      <td>0.004297</td>\n",
       "      <td>-0.046955</td>\n",
       "      <td>0.006902</td>\n",
       "    </tr>\n",
       "    <tr>\n",
       "      <th>2016-10-11</th>\n",
       "      <td>0.001147</td>\n",
       "      <td>-0.007898</td>\n",
       "      <td>-0.003920</td>\n",
       "      <td>-0.011126</td>\n",
       "      <td>-0.003698</td>\n",
       "      <td>-0.010649</td>\n",
       "      <td>-0.002653</td>\n",
       "      <td>-0.000949</td>\n",
       "      <td>-0.000146</td>\n",
       "      <td>-0.000073</td>\n",
       "      <td>...</td>\n",
       "      <td>-0.022772</td>\n",
       "      <td>-0.007642</td>\n",
       "      <td>-0.016027</td>\n",
       "      <td>-0.004006</td>\n",
       "      <td>0.004606</td>\n",
       "      <td>0.001463</td>\n",
       "      <td>-0.002723</td>\n",
       "      <td>-0.003253</td>\n",
       "      <td>0.049844</td>\n",
       "      <td>-0.012674</td>\n",
       "    </tr>\n",
       "  </tbody>\n",
       "</table>\n",
       "<p>2 rows × 48 columns</p>\n",
       "</div>"
      ],
      "text/plain": [
       "            Return_Out  OutTime2  OutRolMean2  OutTime3  OutRolMean3  \\\n",
       "Date                                                                   \n",
       "2016-10-07    0.004606 -0.002773    -0.001386  0.001511     0.000508   \n",
       "2016-10-11    0.001147 -0.007898    -0.003920 -0.011126    -0.003698   \n",
       "\n",
       "            OutTime4  OutRolMean4  Return_^AXJO  ^AXJOTime2  ^AXJORolMean2  \\\n",
       "Date                                                                         \n",
       "2016-10-07 -0.003452    -0.000858      0.001463   -0.001386      -0.000691   \n",
       "2016-10-11 -0.010649    -0.002653     -0.000949   -0.000146      -0.000073   \n",
       "\n",
       "                ...       ^HSITime3  ^HSIRolMean3  ^HSITime4  ^HSIRolMean4  \\\n",
       "Date            ...                                                          \n",
       "2016-10-07      ...       -0.010038     -0.003325  -0.005906     -0.001450   \n",
       "2016-10-11      ...       -0.022772     -0.007642  -0.016027     -0.004006   \n",
       "\n",
       "            Return_Out2  Return_^AXJO2  Return_^IXIC2  Return_^GSPC2  \\\n",
       "Date                                                                   \n",
       "2016-10-07     0.000482       0.005520       0.004983       0.004297   \n",
       "2016-10-11     0.004606       0.001463      -0.002723      -0.003253   \n",
       "\n",
       "            Return_^VIX2  Return_^HSI2  \n",
       "Date                                    \n",
       "2016-10-07     -0.046955      0.006902  \n",
       "2016-10-11      0.049844     -0.012674  \n",
       "\n",
       "[2 rows x 48 columns]"
      ]
     },
     "execution_count": 9,
     "metadata": {},
     "output_type": "execute_result"
    }
   ],
   "source": [
    "# evaluate for single predictions across all algorithms\n",
    "startdate = datetime(2016,10,1)\n",
    "enddate = datetime(2016,10,12)\n",
    "delta = range(2, 5)\n",
    "lags = range(2, 3)\n",
    "\n",
    "td = trainingData()\n",
    "td.load(predictionSymbol, startdate, enddate, delta, lags)\n",
    "td.finalTrainingData"
   ]
  },
  {
   "cell_type": "code",
   "execution_count": 10,
   "metadata": {
    "collapsed": false
   },
   "outputs": [
    {
     "ename": "ValueError",
     "evalue": "shapes (2,48) and (47,5) not aligned: 48 (dim 1) != 47 (dim 0)",
     "output_type": "error",
     "traceback": [
      "\u001b[0;31m---------------------------------------------------------------------------\u001b[0m",
      "\u001b[0;31mValueError\u001b[0m                                Traceback (most recent call last)",
      "\u001b[0;32m<ipython-input-10-ab537741b9e8>\u001b[0m in \u001b[0;36m<module>\u001b[0;34m()\u001b[0m\n\u001b[0;32m----> 1\u001b[0;31m \u001b[0mprediction\u001b[0m \u001b[1;33m=\u001b[0m \u001b[0mmlp\u001b[0m\u001b[1;33m.\u001b[0m\u001b[0mpredict\u001b[0m\u001b[1;33m(\u001b[0m\u001b[0mtd\u001b[0m\u001b[1;33m.\u001b[0m\u001b[0mfinalTrainingData\u001b[0m\u001b[1;33m)\u001b[0m\u001b[1;33m\u001b[0m\u001b[0m\n\u001b[0m\u001b[1;32m      2\u001b[0m \u001b[0mprediction\u001b[0m\u001b[1;33m\u001b[0m\u001b[0m\n",
      "\u001b[0;32mC:\\Program Files\\Anaconda3\\envs\\smp\\lib\\site-packages\\sklearn\\neural_network\\multilayer_perceptron.py\u001b[0m in \u001b[0;36mpredict\u001b[0;34m(self, X)\u001b[0m\n\u001b[1;32m    932\u001b[0m         \"\"\"\n\u001b[1;32m    933\u001b[0m         \u001b[0mcheck_is_fitted\u001b[0m\u001b[1;33m(\u001b[0m\u001b[0mself\u001b[0m\u001b[1;33m,\u001b[0m \u001b[1;34m\"coefs_\"\u001b[0m\u001b[1;33m)\u001b[0m\u001b[1;33m\u001b[0m\u001b[0m\n\u001b[0;32m--> 934\u001b[0;31m         \u001b[0my_pred\u001b[0m \u001b[1;33m=\u001b[0m \u001b[0mself\u001b[0m\u001b[1;33m.\u001b[0m\u001b[0m_predict\u001b[0m\u001b[1;33m(\u001b[0m\u001b[0mX\u001b[0m\u001b[1;33m)\u001b[0m\u001b[1;33m\u001b[0m\u001b[0m\n\u001b[0m\u001b[1;32m    935\u001b[0m \u001b[1;33m\u001b[0m\u001b[0m\n\u001b[1;32m    936\u001b[0m         \u001b[1;32mif\u001b[0m \u001b[0mself\u001b[0m\u001b[1;33m.\u001b[0m\u001b[0mn_outputs_\u001b[0m \u001b[1;33m==\u001b[0m \u001b[1;36m1\u001b[0m\u001b[1;33m:\u001b[0m\u001b[1;33m\u001b[0m\u001b[0m\n",
      "\u001b[0;32mC:\\Program Files\\Anaconda3\\envs\\smp\\lib\\site-packages\\sklearn\\neural_network\\multilayer_perceptron.py\u001b[0m in \u001b[0;36m_predict\u001b[0;34m(self, X)\u001b[0m\n\u001b[1;32m    674\u001b[0m                                          layer_units[i + 1])))\n\u001b[1;32m    675\u001b[0m         \u001b[1;31m# forward propagate\u001b[0m\u001b[1;33m\u001b[0m\u001b[1;33m\u001b[0m\u001b[0m\n\u001b[0;32m--> 676\u001b[0;31m         \u001b[0mself\u001b[0m\u001b[1;33m.\u001b[0m\u001b[0m_forward_pass\u001b[0m\u001b[1;33m(\u001b[0m\u001b[0mactivations\u001b[0m\u001b[1;33m)\u001b[0m\u001b[1;33m\u001b[0m\u001b[0m\n\u001b[0m\u001b[1;32m    677\u001b[0m         \u001b[0my_pred\u001b[0m \u001b[1;33m=\u001b[0m \u001b[0mactivations\u001b[0m\u001b[1;33m[\u001b[0m\u001b[1;33m-\u001b[0m\u001b[1;36m1\u001b[0m\u001b[1;33m]\u001b[0m\u001b[1;33m\u001b[0m\u001b[0m\n\u001b[1;32m    678\u001b[0m \u001b[1;33m\u001b[0m\u001b[0m\n",
      "\u001b[0;32mC:\\Program Files\\Anaconda3\\envs\\smp\\lib\\site-packages\\sklearn\\neural_network\\multilayer_perceptron.py\u001b[0m in \u001b[0;36m_forward_pass\u001b[0;34m(self, activations)\u001b[0m\n\u001b[1;32m    102\u001b[0m         \u001b[1;32mfor\u001b[0m \u001b[0mi\u001b[0m \u001b[1;32min\u001b[0m \u001b[0mrange\u001b[0m\u001b[1;33m(\u001b[0m\u001b[0mself\u001b[0m\u001b[1;33m.\u001b[0m\u001b[0mn_layers_\u001b[0m \u001b[1;33m-\u001b[0m \u001b[1;36m1\u001b[0m\u001b[1;33m)\u001b[0m\u001b[1;33m:\u001b[0m\u001b[1;33m\u001b[0m\u001b[0m\n\u001b[1;32m    103\u001b[0m             activations[i + 1] = safe_sparse_dot(activations[i],\n\u001b[0;32m--> 104\u001b[0;31m                                                  self.coefs_[i])\n\u001b[0m\u001b[1;32m    105\u001b[0m             \u001b[0mactivations\u001b[0m\u001b[1;33m[\u001b[0m\u001b[0mi\u001b[0m \u001b[1;33m+\u001b[0m \u001b[1;36m1\u001b[0m\u001b[1;33m]\u001b[0m \u001b[1;33m+=\u001b[0m \u001b[0mself\u001b[0m\u001b[1;33m.\u001b[0m\u001b[0mintercepts_\u001b[0m\u001b[1;33m[\u001b[0m\u001b[0mi\u001b[0m\u001b[1;33m]\u001b[0m\u001b[1;33m\u001b[0m\u001b[0m\n\u001b[1;32m    106\u001b[0m \u001b[1;33m\u001b[0m\u001b[0m\n",
      "\u001b[0;32mC:\\Program Files\\Anaconda3\\envs\\smp\\lib\\site-packages\\sklearn\\utils\\extmath.py\u001b[0m in \u001b[0;36msafe_sparse_dot\u001b[0;34m(a, b, dense_output)\u001b[0m\n\u001b[1;32m    187\u001b[0m         \u001b[1;32mreturn\u001b[0m \u001b[0mret\u001b[0m\u001b[1;33m\u001b[0m\u001b[0m\n\u001b[1;32m    188\u001b[0m     \u001b[1;32melse\u001b[0m\u001b[1;33m:\u001b[0m\u001b[1;33m\u001b[0m\u001b[0m\n\u001b[0;32m--> 189\u001b[0;31m         \u001b[1;32mreturn\u001b[0m \u001b[0mfast_dot\u001b[0m\u001b[1;33m(\u001b[0m\u001b[0ma\u001b[0m\u001b[1;33m,\u001b[0m \u001b[0mb\u001b[0m\u001b[1;33m)\u001b[0m\u001b[1;33m\u001b[0m\u001b[0m\n\u001b[0m\u001b[1;32m    190\u001b[0m \u001b[1;33m\u001b[0m\u001b[0m\n\u001b[1;32m    191\u001b[0m \u001b[1;33m\u001b[0m\u001b[0m\n",
      "\u001b[0;31mValueError\u001b[0m: shapes (2,48) and (47,5) not aligned: 48 (dim 1) != 47 (dim 0)"
     ]
    }
   ],
   "source": [
    "prediction = mlp.predict(td.finalTrainingData)\n",
    "prediction"
   ]
  },
  {
   "cell_type": "code",
   "execution_count": null,
   "metadata": {
    "collapsed": true
   },
   "outputs": [],
   "source": []
  }
 ],
 "metadata": {
  "anaconda-cloud": {},
  "kernelspec": {
   "display_name": "Python [smp]",
   "language": "python",
   "name": "Python [smp]"
  },
  "language_info": {
   "codemirror_mode": {
    "name": "ipython",
    "version": 3
   },
   "file_extension": ".py",
   "mimetype": "text/x-python",
   "name": "python",
   "nbconvert_exporter": "python",
   "pygments_lexer": "ipython3",
   "version": "3.5.2"
  }
 },
 "nbformat": 4,
 "nbformat_minor": 0
}
