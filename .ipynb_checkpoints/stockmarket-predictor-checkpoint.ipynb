{
 "cells": [
  {
   "cell_type": "code",
   "execution_count": 114,
   "metadata": {
    "collapsed": false
   },
   "outputs": [
    {
     "name": "stdout",
     "output_type": "stream",
     "text": [
      "got australia\n"
     ]
    }
   ],
   "source": [
    "from datetime import datetime\n",
    "import pytest\n",
    "import pandas as pd\n",
    "from trainingData import trainingData\n",
    "\n",
    "predictionSymbol = '^GSPC' #'^IXIC' #symbol for S&P500 or NASDAQ\n",
    "startdate = datetime(2013,10,1)\n",
    "enddate = datetime(2016,10,11)\n",
    "teststartdate = datetime(2016,7,1)\n",
    "index = 2\n",
    "delta = range(2, 5)\n",
    "lags = range(2, 3)\n",
    "\n",
    "td = trainingData()\n",
    "td.load(predictionSymbol, startdate, enddate, delta, lags)"
   ]
  },
  {
   "cell_type": "code",
   "execution_count": 115,
   "metadata": {
    "collapsed": false
   },
   "outputs": [],
   "source": [
    "#ds = td.loadAllFromWeb(predictionSymbol, startdate, enddate)\n",
    "#td.finalTrainingData"
   ]
  },
  {
   "cell_type": "code",
   "execution_count": 116,
   "metadata": {
    "collapsed": false
   },
   "outputs": [],
   "source": [
    "#import featureGenerator as fg\n",
    "#wfeat = fg.applyRollMeanDelayedReturns(ds, delta)"
   ]
  },
  {
   "cell_type": "code",
   "execution_count": 117,
   "metadata": {
    "collapsed": false
   },
   "outputs": [],
   "source": [
    "X_train, y_train, X_test, y_test = td.returnDataForClassification(teststartdate)"
   ]
  },
  {
   "cell_type": "code",
   "execution_count": 118,
   "metadata": {
    "collapsed": false
   },
   "outputs": [
    {
     "data": {
      "text/plain": [
       "147"
      ]
     },
     "execution_count": 118,
     "metadata": {},
     "output_type": "execute_result"
    }
   ],
   "source": [
    "y_test.size"
   ]
  },
  {
   "cell_type": "code",
   "execution_count": 119,
   "metadata": {
    "collapsed": false
   },
   "outputs": [
    {
     "name": "stdout",
     "output_type": "stream",
     "text": [
      "RFC = 1.0\n",
      "KNN = 0.551020408163\n",
      "SVM = 0.544217687075\n"
     ]
    }
   ],
   "source": [
    "import algorithms as alg\n",
    "accuracy = alg.performRFClass(X_train, y_train, X_test, y_test)\n",
    "print('RFC =', accuracy)\n",
    "accuracy = alg.performKNNClass(X_train, y_train, X_test, y_test)\n",
    "print('KNN =', accuracy)\n",
    "accuracy = alg.performSVMClass(X_train, y_train, X_test, y_test)\n",
    "print('SVM =', accuracy)\n"
   ]
  },
  {
   "cell_type": "code",
   "execution_count": null,
   "metadata": {
    "collapsed": true
   },
   "outputs": [],
   "source": []
  }
 ],
 "metadata": {
  "anaconda-cloud": {},
  "kernelspec": {
   "display_name": "Python 3",
   "language": "python",
   "name": "python3"
  },
  "language_info": {
   "codemirror_mode": {
    "name": "ipython",
    "version": 3
   },
   "file_extension": ".py",
   "mimetype": "text/x-python",
   "name": "python",
   "nbconvert_exporter": "python",
   "pygments_lexer": "ipython3",
   "version": "3.4.3"
  }
 },
 "nbformat": 4,
 "nbformat_minor": 0
}
