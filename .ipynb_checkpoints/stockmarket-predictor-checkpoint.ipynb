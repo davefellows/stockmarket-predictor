{
 "cells": [
  {
   "cell_type": "markdown",
   "metadata": {},
   "source": [
    "#TODO:\n",
    "\n",
    "1. Need to sort dates out so can retrieve latest market data for prediction\n",
    "2. Would it help to normalize values?\n",
    "3. Is trading strategy realistic?\n",
    "4. Hong Kong wouldn't be available within a trading window so may need to remove (or could get current price)\n",
    "5. Are there different settings on the various learners to try e.g. RFC?\n",
    "6. MLP\n",
    "    a. Try different solvers and learning rates\n",
    "    b. Iterate through different hyperparameters and alpha values (for regularization)\n",
    "7. Can retrieve probability values to decide on confidence? (mlp.predict_proba())\n",
    "8. Add in commodities"
   ]
  },
  {
   "cell_type": "markdown",
   "metadata": {},
   "source": [
    "# Train models"
   ]
  },
  {
   "cell_type": "code",
   "execution_count": 1,
   "metadata": {
    "collapsed": false
   },
   "outputs": [
    {
     "name": "stdout",
     "output_type": "stream",
     "text": [
      "got nasdaq\n",
      "got sp500\n",
      "got volatility\n",
      "got australia\n",
      "got hkong\n"
     ]
    }
   ],
   "source": [
    "from datetime import datetime\n",
    "import pandas as pd\n",
    "from trainingData import trainingData\n",
    "\n",
    "predictionSymbol = '^GSPC' #'^GSPC' #'^IXIC' #symbol for S&P500 (^GSPC) or NASDAQ (^IXIC) or AUS ('^AXJO')\n",
    "startdate = datetime(2012,10,1)\n",
    "enddate = datetime(2016,3,1)\n",
    "teststartdate = datetime(2016,7,1)\n",
    "delta = range(2, 5)\n",
    "lags = range(2, 3)\n",
    "\n",
    "td = trainingData()\n",
    "td.load(predictionSymbol, startdate, enddate, delta, lags)"
   ]
  },
  {
   "cell_type": "code",
   "execution_count": 2,
   "metadata": {
    "collapsed": false
   },
   "outputs": [],
   "source": [
    "import numpy as np\n",
    "\n",
    "testsize = 0.1\n",
    "X_train, y_train, X_test, y_test = td.returnDataForClassification(teststartdate, testsize)\n",
    "#X_train /= np.std(X_train, axis = 0)\n",
    "#X_test /= np.std(X_test, axis = 0)\n",
    "#aus = td.getStockFromYahoo('^AXJO', datetime(2016, 10, 13), datetime(2016, 10, 14))\n",
    "#td = trainingData()\n",
    "#td.load(predictionSymbol, datetime(2016, 10, 13), datetime(2016, 10, 14), delta, lags)\n",
    "#td.trainDataWithFeatures[1]"
   ]
  },
  {
   "cell_type": "code",
   "execution_count": 3,
   "metadata": {
    "collapsed": false
   },
   "outputs": [
    {
     "name": "stdout",
     "output_type": "stream",
     "text": [
      "RFC = 0.589743589744\n",
      "KNN = 0.615384615385\n",
      "SVM = 0.564102564103\n",
      "ADA = 0.538461538462\n",
      "GTB = 0.653846153846\n",
      "MLP = 0.641025641026\n"
     ]
    }
   ],
   "source": [
    "# score accuracy of each algorithm\n",
    "import algorithms as alg\n",
    "accuracy, rfc = alg.performRFClass(X_train, y_train, X_test, y_test)\n",
    "print('RFC =', accuracy)\n",
    "accuracy, knn = alg.performKNNClass(X_train, y_train, X_test, y_test)\n",
    "print('KNN =', accuracy)\n",
    "accuracy, svm = alg.performSVMClass(X_train, y_train, X_test, y_test)\n",
    "print('SVM =', accuracy)\n",
    "accuracy, ada = alg.performAdaBoostClass(X_train, y_train, X_test, y_test)\n",
    "print('ADA =', accuracy)\n",
    "accuracy, gtb = alg.performGTBClass(X_train, y_train, X_test, y_test)\n",
    "print('GTB =', accuracy)\n",
    "#accuracy = alg.performQDAClass(X_train, y_train, X_test, y_test)\n",
    "#print('QDA =', accuracy)\n",
    "accuracy, mlp = alg.performMLPClass(X_train, y_train, X_test, y_test, (6,6,4))\n",
    "print('MLP =', accuracy)\n"
   ]
  },
  {
   "cell_type": "markdown",
   "metadata": {},
   "source": [
    "# Evaluate for single prediction"
   ]
  },
  {
   "cell_type": "code",
   "execution_count": 8,
   "metadata": {
    "collapsed": false
   },
   "outputs": [
    {
     "name": "stdout",
     "output_type": "stream",
     "text": [
      "got nasdaq\n",
      "got sp500\n",
      "got volatility\n",
      "got australia\n",
      "got hkong\n"
     ]
    }
   ],
   "source": [
    "# evaluate for single predictions across all algorithms\n",
    "startdate = datetime(2016,10,1)\n",
    "enddate = datetime(2016,10,12)\n",
    "delta = range(2, 5)\n",
    "lags = range(2, 3)\n",
    "\n",
    "td = trainingData()\n",
    "td.load(predictionSymbol, startdate, enddate, delta, lags)\n",
    "predData = td.returnDataForPrediction()"
   ]
  },
  {
   "cell_type": "code",
   "execution_count": 31,
   "metadata": {
    "collapsed": false
   },
   "outputs": [
    {
     "data": {
      "text/html": [
       "<div>\n",
       "<table border=\"1\" class=\"dataframe\">\n",
       "  <thead>\n",
       "    <tr style=\"text-align: right;\">\n",
       "      <th></th>\n",
       "      <th>OutTime2</th>\n",
       "      <th>OutRolMean2</th>\n",
       "      <th>OutTime3</th>\n",
       "      <th>OutRolMean3</th>\n",
       "      <th>OutTime4</th>\n",
       "      <th>OutRolMean4</th>\n",
       "      <th>Return_^AXJO</th>\n",
       "      <th>^AXJOTime2</th>\n",
       "      <th>^AXJORolMean2</th>\n",
       "      <th>^AXJOTime3</th>\n",
       "      <th>...</th>\n",
       "      <th>^HSITime3</th>\n",
       "      <th>^HSIRolMean3</th>\n",
       "      <th>^HSITime4</th>\n",
       "      <th>^HSIRolMean4</th>\n",
       "      <th>Return_Out2</th>\n",
       "      <th>Return_^AXJO2</th>\n",
       "      <th>Return_^IXIC2</th>\n",
       "      <th>Return_^GSPC2</th>\n",
       "      <th>Return_^VIX2</th>\n",
       "      <th>Return_^HSI2</th>\n",
       "    </tr>\n",
       "    <tr>\n",
       "      <th>Date</th>\n",
       "      <th></th>\n",
       "      <th></th>\n",
       "      <th></th>\n",
       "      <th></th>\n",
       "      <th></th>\n",
       "      <th></th>\n",
       "      <th></th>\n",
       "      <th></th>\n",
       "      <th></th>\n",
       "      <th></th>\n",
       "      <th></th>\n",
       "      <th></th>\n",
       "      <th></th>\n",
       "      <th></th>\n",
       "      <th></th>\n",
       "      <th></th>\n",
       "      <th></th>\n",
       "      <th></th>\n",
       "      <th></th>\n",
       "      <th></th>\n",
       "      <th></th>\n",
       "    </tr>\n",
       "  </thead>\n",
       "  <tbody>\n",
       "    <tr>\n",
       "      <th>2016-10-07</th>\n",
       "      <td>-0.002773</td>\n",
       "      <td>-0.001386</td>\n",
       "      <td>0.001511</td>\n",
       "      <td>0.000508</td>\n",
       "      <td>-0.003452</td>\n",
       "      <td>-0.000858</td>\n",
       "      <td>0.001463</td>\n",
       "      <td>-0.001386</td>\n",
       "      <td>-0.000691</td>\n",
       "      <td>0.004126</td>\n",
       "      <td>...</td>\n",
       "      <td>-0.010038</td>\n",
       "      <td>-0.003325</td>\n",
       "      <td>-0.005906</td>\n",
       "      <td>-0.00145</td>\n",
       "      <td>0.000482</td>\n",
       "      <td>0.00552</td>\n",
       "      <td>0.004983</td>\n",
       "      <td>0.004297</td>\n",
       "      <td>-0.046955</td>\n",
       "      <td>0.006902</td>\n",
       "    </tr>\n",
       "  </tbody>\n",
       "</table>\n",
       "<p>1 rows × 47 columns</p>\n",
       "</div>"
      ],
      "text/plain": [
       "            OutTime2  OutRolMean2  OutTime3  OutRolMean3  OutTime4  \\\n",
       "Date                                                                 \n",
       "2016-10-07 -0.002773    -0.001386  0.001511     0.000508 -0.003452   \n",
       "\n",
       "            OutRolMean4  Return_^AXJO  ^AXJOTime2  ^AXJORolMean2  ^AXJOTime3  \\\n",
       "Date                                                                           \n",
       "2016-10-07    -0.000858      0.001463   -0.001386      -0.000691    0.004126   \n",
       "\n",
       "                ...       ^HSITime3  ^HSIRolMean3  ^HSITime4  ^HSIRolMean4  \\\n",
       "Date            ...                                                          \n",
       "2016-10-07      ...       -0.010038     -0.003325  -0.005906      -0.00145   \n",
       "\n",
       "            Return_Out2  Return_^AXJO2  Return_^IXIC2  Return_^GSPC2  \\\n",
       "Date                                                                   \n",
       "2016-10-07     0.000482        0.00552       0.004983       0.004297   \n",
       "\n",
       "            Return_^VIX2  Return_^HSI2  \n",
       "Date                                    \n",
       "2016-10-07     -0.046955      0.006902  \n",
       "\n",
       "[1 rows x 47 columns]"
      ]
     },
     "execution_count": 31,
     "metadata": {},
     "output_type": "execute_result"
    }
   ],
   "source": [
    "predData = predData[:1]\n",
    "predData"
   ]
  },
  {
   "cell_type": "code",
   "execution_count": 30,
   "metadata": {
    "collapsed": false
   },
   "outputs": [
    {
     "name": "stdout",
     "output_type": "stream",
     "text": [
      "rfc prediction = [1]\n",
      "knn prediction = [0]\n",
      "svm prediction = [1]\n",
      "ada prediction = [1]\n",
      "gtb prediction = [1]\n",
      "mlp prediction = [1]\n"
     ]
    }
   ],
   "source": [
    "\n",
    "#td.finalTrainingData.columns[1:].size\n",
    "prediction = rfc.predict(predData)\n",
    "print('rfc prediction =', prediction)\n",
    "prediction = knn.predict(predData)\n",
    "print('knn prediction =', prediction)\n",
    "prediction = svm.predict(predData)\n",
    "print('svm prediction =', prediction)\n",
    "prediction = ada.predict(predData)\n",
    "print('ada prediction =', prediction)\n",
    "prediction = gtb.predict(predData)\n",
    "print('gtb prediction =', prediction)\n",
    "prediction = mlp.predict(predData)\n",
    "print('mlp prediction =', prediction)"
   ]
  },
  {
   "cell_type": "markdown",
   "metadata": {
    "collapsed": true
   },
   "source": [
    "# Back test"
   ]
  },
  {
   "cell_type": "code",
   "execution_count": 7,
   "metadata": {
    "collapsed": false,
    "scrolled": true
   },
   "outputs": [
    {
     "name": "stdout",
     "output_type": "stream",
     "text": [
      "got nasdaq\n",
      "got sp500\n",
      "got volatility\n",
      "got australia\n",
      "got hkong\n"
     ]
    }
   ],
   "source": [
    "from datetime import datetime\n",
    "import pandas as pd\n",
    "from trainingData import trainingData\n",
    "\n",
    "predictionSymbol = '^GSPC' #'^GSPC' #'^IXIC' #symbol for S&P500 (^GSPC) or NASDAQ (^IXIC) or AUS ('^AXJO')\n",
    "\n",
    "startdate = datetime(2016,3,2)\n",
    "enddate = datetime(2016,10,14)\n",
    "delta = range(2, 5)\n",
    "lags = range(2, 3)\n",
    "\n",
    "td = trainingData()\n",
    "td.load(predictionSymbol, startdate, enddate, delta, lags)\n",
    "predData = td.returnDataForBacktesting()\n",
    "#predData /= np.std(predData, axis = 0)\n",
    "\n",
    "# symbol of the stock required for future plotting\n",
    "symbol = 'S&P-500'\n",
    "\n",
    "# name of the file of the output of prediction (S&P 500 in this case)\n",
    "name = 'sp500-2016.csv'\n",
    "\n",
    "# calls the best model previously saved in pickle file and runs it on the test set retutning an array of 0,1 (Down, Up) according to predicted returns\n",
    "#prediction = pystocks.getPredictionFromBestModel(9, 9, 'sp500', cut, start_test, path_datasets, 'sp500_57.pickle')[0]\n",
    "prediction = mlp.predict(predData)\n",
    "prediction2 = gtb.predict(predData)\n",
    "\n",
    "# dataframe of S&P 500 historical prices (saved locally from Yahho Finance)\n",
    "bars = pd.read_csv(name, index_col=0, parse_dates=True)    \n",
    "\n",
    "# subset of the data corresponding to test set\n",
    "bars = pd.merge(bars, predData, how='inner', on=None, left_index=True, right_index=True).ix[:,0:6]\n",
    "\n",
    "\n",
    "# initialize empty dataframe indexed as the bars. There's going to be perfect match between dates in bars and signals \n",
    "signals = pd.DataFrame(index=bars.index)\n",
    "\n",
    "# initialize signals.signal column to zero\n",
    "signals['signal'] = 0.0\n",
    "\n",
    "# copying into signals.signal column results of prediction\n",
    "signals['signal'] = prediction\n",
    "\n",
    "signals2 = signals.copy()\n",
    "signals2['signal'] = prediction2\n",
    "\n",
    "# replace the zeros with -1 (new encoding for Down day)\n",
    "signals.signal[signals.signal == 0] = -1\n",
    "signals2.signal[signals2.signal == 0] = -1\n",
    "\n",
    "signalsall = pd.merge(signals, signals2, how='inner', on=None, left_index=True, right_index=True)\n",
    "signalsall = signalsall[signalsall['signal_x'] == signalsall['signal_y']].ix[:,0:1]\n",
    "signalsall.columns = ['signal']\n",
    "\n",
    "# compute the difference between consecutive entries in signals.signal. As\n",
    "# signals.signal was an array of 1 and -1 return signals.positions will \n",
    "# be an array of 0s and 2s.\n",
    "signals['positions'] = signals['signal'].diff()     \n",
    "signalsall['positions'] = signalsall['signal'].diff()\n",
    "\n",
    "#signals = signals.head(len(signalsall))"
   ]
  },
  {
   "cell_type": "code",
   "execution_count": 8,
   "metadata": {
    "collapsed": false
   },
   "outputs": [
    {
     "data": {
      "text/html": [
       "<div>\n",
       "<table border=\"1\" class=\"dataframe\">\n",
       "  <thead>\n",
       "    <tr style=\"text-align: right;\">\n",
       "      <th></th>\n",
       "      <th>price_diff</th>\n",
       "      <th>profit</th>\n",
       "      <th>total</th>\n",
       "      <th>returns</th>\n",
       "    </tr>\n",
       "    <tr>\n",
       "      <th>Date</th>\n",
       "      <th></th>\n",
       "      <th></th>\n",
       "      <th></th>\n",
       "      <th></th>\n",
       "    </tr>\n",
       "  </thead>\n",
       "  <tbody>\n",
       "    <tr>\n",
       "      <th>2016-10-13</th>\n",
       "      <td>2.290039</td>\n",
       "      <td>1030.51755</td>\n",
       "      <td>149454.4618</td>\n",
       "      <td>0.006943</td>\n",
       "    </tr>\n",
       "  </tbody>\n",
       "</table>\n",
       "</div>"
      ],
      "text/plain": [
       "            price_diff      profit        total   returns\n",
       "Date                                                     \n",
       "2016-10-13    2.290039  1030.51755  149454.4618  0.006943"
      ]
     },
     "execution_count": 8,
     "metadata": {},
     "output_type": "execute_result"
    }
   ],
   "source": [
    "from portfolio import MarketIntradayPortfolio\n",
    "\n",
    "# calling portfolio evaluation on signals (predicted returns) and bars \n",
    "# (actual returns)\n",
    "portfolio = MarketIntradayPortfolio(symbol, bars, signals)\n",
    "\n",
    "# backtesting the portfolio and generating returns on top of that \n",
    "returns = portfolio.backtest_portfolio()\n",
    "returns.tail(1)"
   ]
  },
  {
   "cell_type": "markdown",
   "metadata": {
    "collapsed": true
   },
   "source": [
    "# Plot portfolio performance"
   ]
  },
  {
   "cell_type": "code",
   "execution_count": 9,
   "metadata": {
    "collapsed": false
   },
   "outputs": [],
   "source": [
    "import matplotlib.pyplot as plt\n",
    "\n",
    "f, ax = plt.subplots(2, sharex=True)\n",
    "f.patch.set_facecolor('white')\n",
    "ylabel = symbol + ' Close Price in $'\n",
    "bars['Close'].plot(ax=ax[0], color='r', lw=3.)    \n",
    "ax[0].xaxis.grid(True)\n",
    "ax[0].yaxis.grid(True)\n",
    "ax[0].set_ylabel(ylabel, fontsize=18)\n",
    "ax[0].set_xlabel('', fontsize=18)\n",
    "ax[0].legend(('Close Price S&P-500',), loc='upper left', prop={\"size\":18})\n",
    "ax[0].set_title('S&P 500 Close Price VS Portofolio Performance (1 January 2016 - 12 October 2016)', fontsize=20, fontweight=\"bold\")\n",
    "\n",
    "returns['total'].plot(ax=ax[1], color='b', lw=3.)  \n",
    "ax[1].xaxis.grid(True)\n",
    "ax[1].yaxis.grid(True)\n",
    "ax[1].set_ylabel('Portfolio value in $', fontsize=18)\n",
    "ax[1].set_xlabel('Date', fontsize=18)\n",
    "ax[1].legend(('Portofolio Performance. Capital Invested: 100k $. Shares Traded per day: 500+500',), loc='upper left', prop={\"size\":18})            \n",
    "plt.tick_params(axis='both', which='major', labelsize=14)\n",
    "loc = ax[1].xaxis.get_major_locator()\n",
    "#loc.maxticks[DAILY] = 24\n",
    "\n",
    "figManager = plt.get_current_fig_manager()\n",
    "figManager.window.showMaximized()\n",
    "\n",
    "plt.show()"
   ]
  },
  {
   "cell_type": "code",
   "execution_count": null,
   "metadata": {
    "collapsed": true
   },
   "outputs": [],
   "source": []
  }
 ],
 "metadata": {
  "anaconda-cloud": {},
  "kernelspec": {
   "display_name": "Python 3",
   "language": "python",
   "name": "python3"
  },
  "language_info": {
   "codemirror_mode": {
    "name": "ipython",
    "version": 3
   },
   "file_extension": ".py",
   "mimetype": "text/x-python",
   "name": "python",
   "nbconvert_exporter": "python",
   "pygments_lexer": "ipython3",
   "version": "3.4.3"
  }
 },
 "nbformat": 4,
 "nbformat_minor": 0
}
