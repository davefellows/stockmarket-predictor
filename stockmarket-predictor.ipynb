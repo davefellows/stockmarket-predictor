{
 "cells": [
  {
   "cell_type": "code",
   "execution_count": 1,
   "metadata": {
    "collapsed": false
   },
   "outputs": [
    {
     "name": "stdout",
     "output_type": "stream",
     "text": [
      "got nasdaq\n",
      "got sp500\n",
      "got volatility\n",
      "got australia\n",
      "got hkong\n"
     ]
    }
   ],
   "source": [
    "from datetime import datetime\n",
    "import pandas as pd\n",
    "from trainingData import trainingData\n",
    "\n",
    "predictionSymbol = '^GSPC' #'^GSPC' #'^IXIC' #symbol for S&P500 (^GSPC) or NASDAQ (^IXIC) or AUS ('^AXJO')\n",
    "startdate = datetime(2013,10,1)\n",
    "enddate = datetime(2016,10,11)\n",
    "teststartdate = datetime(2016,7,1)\n",
    "delta = range(2, 5)\n",
    "lags = range(2, 3)\n",
    "\n",
    "td = trainingData()\n",
    "td.load(predictionSymbol, startdate, enddate, delta, lags)"
   ]
  },
  {
   "cell_type": "code",
   "execution_count": 2,
   "metadata": {
    "collapsed": false
   },
   "outputs": [],
   "source": [
    "#ds = td.loadAllFromWeb(predictionSymbol, startdate, enddate)"
   ]
  },
  {
   "cell_type": "code",
   "execution_count": 3,
   "metadata": {
    "collapsed": false
   },
   "outputs": [],
   "source": [
    "#for column in ds[0].columns:\n",
    "#    ds[0][column] = ds[0][column].shift(1)\n",
    "#ds[0]"
   ]
  },
  {
   "cell_type": "code",
   "execution_count": 4,
   "metadata": {
    "collapsed": false
   },
   "outputs": [],
   "source": [
    "#import featureGenerator as fg\n",
    "#wfeat = fg.applyRollMeanDelayedReturns(ds, delta)"
   ]
  },
  {
   "cell_type": "code",
   "execution_count": 5,
   "metadata": {
    "collapsed": false
   },
   "outputs": [],
   "source": [
    "testsize = 0.1\n",
    "X_train, y_train, X_test, y_test = td.returnDataForClassification(teststartdate, testsize)"
   ]
  },
  {
   "cell_type": "code",
   "execution_count": 6,
   "metadata": {
    "collapsed": false
   },
   "outputs": [
    {
     "data": {
      "text/plain": [
       "69"
      ]
     },
     "execution_count": 6,
     "metadata": {},
     "output_type": "execute_result"
    }
   ],
   "source": [
    "y_test.size"
   ]
  },
  {
   "cell_type": "code",
   "execution_count": 7,
   "metadata": {
    "collapsed": false
   },
   "outputs": [
    {
     "name": "stdout",
     "output_type": "stream",
     "text": [
      "RFC = 0.550724637681\n",
      "KNN = 0.565217391304\n",
      "SVM = 0.579710144928\n",
      "ADA = 0.536231884058\n",
      "GTB = 0.507246376812\n",
      "MLP = 0.608695652174\n"
     ]
    }
   ],
   "source": [
    "# score accuracy of each algorithm\n",
    "import algorithms as alg\n",
    "accuracy, rfc = alg.performRFClass(X_train, y_train, X_test, y_test)\n",
    "print('RFC =', accuracy)\n",
    "accuracy, knn = alg.performKNNClass(X_train, y_train, X_test, y_test)\n",
    "print('KNN =', accuracy)\n",
    "accuracy, svm = alg.performSVMClass(X_train, y_train, X_test, y_test)\n",
    "print('SVM =', accuracy)\n",
    "accuracy, ada = alg.performAdaBoostClass(X_train, y_train, X_test, y_test)\n",
    "print('ADA =', accuracy)\n",
    "accuracy, gtb = alg.performGTBClass(X_train, y_train, X_test, y_test)\n",
    "print('GTB =', accuracy)\n",
    "#accuracy = alg.performQDAClass(X_train, y_train, X_test, y_test)\n",
    "#print('QDA =', accuracy)\n",
    "accuracy, mlp = alg.performMLPClass(X_train, y_train, X_test, y_test, (5,6,2))\n",
    "print('MLP =', accuracy)"
   ]
  },
  {
   "cell_type": "code",
   "execution_count": 9,
   "metadata": {
    "collapsed": false
   },
   "outputs": [
    {
     "name": "stdout",
     "output_type": "stream",
     "text": [
      "got nasdaq\n",
      "got sp500\n",
      "got volatility\n",
      "got australia\n",
      "got hkong\n"
     ]
    }
   ],
   "source": [
    "# evaluate for single predictions across all algorithms\n",
    "startdate = datetime(2016,10,1)\n",
    "enddate = datetime(2016,10,12)\n",
    "delta = range(2, 5)\n",
    "lags = range(2, 3)\n",
    "\n",
    "td = trainingData()\n",
    "td.load(predictionSymbol, startdate, enddate, delta, lags)\n",
    "predData = td.returnDataForPrediction()"
   ]
  },
  {
   "cell_type": "code",
   "execution_count": 31,
   "metadata": {
    "collapsed": false
   },
   "outputs": [
    {
     "data": {
      "text/html": [
       "<div>\n",
       "<table border=\"1\" class=\"dataframe\">\n",
       "  <thead>\n",
       "    <tr style=\"text-align: right;\">\n",
       "      <th></th>\n",
       "      <th>OutTime2</th>\n",
       "      <th>OutRolMean2</th>\n",
       "      <th>OutTime3</th>\n",
       "      <th>OutRolMean3</th>\n",
       "      <th>OutTime4</th>\n",
       "      <th>OutRolMean4</th>\n",
       "      <th>Return_^AXJO</th>\n",
       "      <th>^AXJOTime2</th>\n",
       "      <th>^AXJORolMean2</th>\n",
       "      <th>^AXJOTime3</th>\n",
       "      <th>...</th>\n",
       "      <th>^HSITime3</th>\n",
       "      <th>^HSIRolMean3</th>\n",
       "      <th>^HSITime4</th>\n",
       "      <th>^HSIRolMean4</th>\n",
       "      <th>Return_Out2</th>\n",
       "      <th>Return_^AXJO2</th>\n",
       "      <th>Return_^IXIC2</th>\n",
       "      <th>Return_^GSPC2</th>\n",
       "      <th>Return_^VIX2</th>\n",
       "      <th>Return_^HSI2</th>\n",
       "    </tr>\n",
       "    <tr>\n",
       "      <th>Date</th>\n",
       "      <th></th>\n",
       "      <th></th>\n",
       "      <th></th>\n",
       "      <th></th>\n",
       "      <th></th>\n",
       "      <th></th>\n",
       "      <th></th>\n",
       "      <th></th>\n",
       "      <th></th>\n",
       "      <th></th>\n",
       "      <th></th>\n",
       "      <th></th>\n",
       "      <th></th>\n",
       "      <th></th>\n",
       "      <th></th>\n",
       "      <th></th>\n",
       "      <th></th>\n",
       "      <th></th>\n",
       "      <th></th>\n",
       "      <th></th>\n",
       "      <th></th>\n",
       "    </tr>\n",
       "  </thead>\n",
       "  <tbody>\n",
       "    <tr>\n",
       "      <th>2016-10-07</th>\n",
       "      <td>-0.002773</td>\n",
       "      <td>-0.001386</td>\n",
       "      <td>0.001511</td>\n",
       "      <td>0.000508</td>\n",
       "      <td>-0.003452</td>\n",
       "      <td>-0.000858</td>\n",
       "      <td>0.001463</td>\n",
       "      <td>-0.001386</td>\n",
       "      <td>-0.000691</td>\n",
       "      <td>0.004126</td>\n",
       "      <td>...</td>\n",
       "      <td>-0.010038</td>\n",
       "      <td>-0.003325</td>\n",
       "      <td>-0.005906</td>\n",
       "      <td>-0.00145</td>\n",
       "      <td>0.000482</td>\n",
       "      <td>0.00552</td>\n",
       "      <td>0.004983</td>\n",
       "      <td>0.004297</td>\n",
       "      <td>-0.046955</td>\n",
       "      <td>0.006902</td>\n",
       "    </tr>\n",
       "  </tbody>\n",
       "</table>\n",
       "<p>1 rows × 47 columns</p>\n",
       "</div>"
      ],
      "text/plain": [
       "            OutTime2  OutRolMean2  OutTime3  OutRolMean3  OutTime4  \\\n",
       "Date                                                                 \n",
       "2016-10-07 -0.002773    -0.001386  0.001511     0.000508 -0.003452   \n",
       "\n",
       "            OutRolMean4  Return_^AXJO  ^AXJOTime2  ^AXJORolMean2  ^AXJOTime3  \\\n",
       "Date                                                                           \n",
       "2016-10-07    -0.000858      0.001463   -0.001386      -0.000691    0.004126   \n",
       "\n",
       "                ...       ^HSITime3  ^HSIRolMean3  ^HSITime4  ^HSIRolMean4  \\\n",
       "Date            ...                                                          \n",
       "2016-10-07      ...       -0.010038     -0.003325  -0.005906      -0.00145   \n",
       "\n",
       "            Return_Out2  Return_^AXJO2  Return_^IXIC2  Return_^GSPC2  \\\n",
       "Date                                                                   \n",
       "2016-10-07     0.000482        0.00552       0.004983       0.004297   \n",
       "\n",
       "            Return_^VIX2  Return_^HSI2  \n",
       "Date                                    \n",
       "2016-10-07     -0.046955      0.006902  \n",
       "\n",
       "[1 rows x 47 columns]"
      ]
     },
     "execution_count": 31,
     "metadata": {},
     "output_type": "execute_result"
    }
   ],
   "source": [
    "predData = predData[:1]\n",
    "predData"
   ]
  },
  {
   "cell_type": "code",
   "execution_count": 30,
   "metadata": {
    "collapsed": false
   },
   "outputs": [
    {
     "name": "stdout",
     "output_type": "stream",
     "text": [
      "rfc prediction = [1]\n",
      "knn prediction = [0]\n",
      "svm prediction = [1]\n",
      "ada prediction = [1]\n",
      "gtb prediction = [1]\n",
      "mlp prediction = [1]\n"
     ]
    }
   ],
   "source": [
    "\n",
    "#td.finalTrainingData.columns[1:].size\n",
    "prediction = rfc.predict(predData)\n",
    "print('rfc prediction =', prediction)\n",
    "prediction = knn.predict(predData)\n",
    "print('knn prediction =', prediction)\n",
    "prediction = svm.predict(predData)\n",
    "print('svm prediction =', prediction)\n",
    "prediction = ada.predict(predData)\n",
    "print('ada prediction =', prediction)\n",
    "prediction = gtb.predict(predData)\n",
    "print('gtb prediction =', prediction)\n",
    "prediction = mlp.predict(predData)\n",
    "print('mlp prediction =', prediction)"
   ]
  },
  {
   "cell_type": "markdown",
   "metadata": {
    "collapsed": true
   },
   "source": [
    "# Back test"
   ]
  },
  {
   "cell_type": "code",
   "execution_count": 8,
   "metadata": {
    "collapsed": false
   },
   "outputs": [
    {
     "name": "stdout",
     "output_type": "stream",
     "text": [
      "got nasdaq\n",
      "got sp500\n",
      "got volatility\n",
      "got australia\n",
      "got hkong\n"
     ]
    }
   ],
   "source": [
    "from datetime import datetime\n",
    "import pandas as pd\n",
    "from trainingData import trainingData\n",
    "\n",
    "predictionSymbol = '^GSPC' #'^GSPC' #'^IXIC' #symbol for S&P500 (^GSPC) or NASDAQ (^IXIC) or AUS ('^AXJO')\n",
    "\n",
    "startdate = datetime(2016,1,10)\n",
    "enddate = datetime(2016,10,12)\n",
    "delta = range(2, 5)\n",
    "lags = range(2, 3)\n",
    "\n",
    "td = trainingData()\n",
    "td.load(predictionSymbol, startdate, enddate, delta, lags)\n",
    "predData = td.returnDataForPrediction()\n",
    "\n",
    "# symbol of the stock required for future plotting\n",
    "symbol = 'S&P-500'\n",
    "\n",
    "# name of the file of the output of prediction (S&P 500 in this case)\n",
    "name = 'sp500-2016.csv'\n",
    "\n",
    "# calls the best model previously saved in pickle file and runs it on the test set retutning an array of 0,1 (Down, Up) according to predicted returns\n",
    "#prediction = pystocks.getPredictionFromBestModel(9, 9, 'sp500', cut, start_test, path_datasets, 'sp500_57.pickle')[0]\n",
    "prediction = mlp.predict(predData)\n",
    "\n",
    "# dataframe of S&P 500 historical prices (saved locally from Yahho Finance)\n",
    "bars = pd.read_csv(name, index_col=0, parse_dates=True)    \n",
    "\n",
    "# subset of the data corresponding to test set\n",
    "bars = bars[startdate:enddate]\n",
    "\n",
    "# initialize empty dataframe indexed as the bars. There's going to be perfect match between dates in bars and signals \n",
    "signals = pd.DataFrame(index=bars.index)\n",
    "\n",
    "# initialize signals.signal column to zero\n",
    "signals['signal'] = 0.0\n",
    "\n",
    "# copying into signals.signal column results of prediction\n",
    "signals['signal'] = prediction\n",
    "\n",
    "# replace the zeros with -1 (new encoding for Down day)\n",
    "signals.signal[signals.signal == 0] = -1\n",
    "\n",
    "# compute the difference between consecutive entries in signals.signal. As\n",
    "# signals.signal was an array of 1 and -1 return signals.positions will \n",
    "# be an array of 0s and 2s.\n",
    "signals['positions'] = signals['signal'].diff()     \n"
   ]
  },
  {
   "cell_type": "code",
   "execution_count": 9,
   "metadata": {
    "collapsed": false
   },
   "outputs": [
    {
     "ename": "KeyError",
     "evalue": "'Close_Out'",
     "output_type": "error",
     "traceback": [
      "\u001b[1;31m---------------------------------------------------------------------------\u001b[0m",
      "\u001b[1;31mKeyError\u001b[0m                                  Traceback (most recent call last)",
      "\u001b[1;32m<ipython-input-9-ded6b722ff47>\u001b[0m in \u001b[0;36m<module>\u001b[1;34m()\u001b[0m\n\u001b[0;32m      6\u001b[0m \u001b[1;33m\u001b[0m\u001b[0m\n\u001b[0;32m      7\u001b[0m \u001b[1;31m# backtesting the portfolio and generating returns on top of that\u001b[0m\u001b[1;33m\u001b[0m\u001b[1;33m\u001b[0m\u001b[0m\n\u001b[1;32m----> 8\u001b[1;33m \u001b[0mreturns\u001b[0m \u001b[1;33m=\u001b[0m \u001b[0mportfolio\u001b[0m\u001b[1;33m.\u001b[0m\u001b[0mbacktest_portfolio\u001b[0m\u001b[1;33m(\u001b[0m\u001b[1;33m)\u001b[0m\u001b[1;33m\u001b[0m\u001b[0m\n\u001b[0m\u001b[0;32m      9\u001b[0m \u001b[0mreturns\u001b[0m\u001b[1;33m\u001b[0m\u001b[0m\n",
      "\u001b[1;32mC:\\git\\github\\stockmarket-predictor\\portfolio.py\u001b[0m in \u001b[0;36mbacktest_portfolio\u001b[1;34m(self)\u001b[0m\n\u001b[0;32m     37\u001b[0m         \u001b[0mpos_diff\u001b[0m \u001b[1;33m=\u001b[0m \u001b[0mself\u001b[0m\u001b[1;33m.\u001b[0m\u001b[0mpositions\u001b[0m\u001b[1;33m.\u001b[0m\u001b[0mdiff\u001b[0m\u001b[1;33m(\u001b[0m\u001b[1;33m)\u001b[0m\u001b[1;33m\u001b[0m\u001b[0m\n\u001b[0;32m     38\u001b[0m \u001b[1;33m\u001b[0m\u001b[0m\n\u001b[1;32m---> 39\u001b[1;33m         \u001b[0mportfolio\u001b[0m\u001b[1;33m[\u001b[0m\u001b[1;34m'price_diff'\u001b[0m\u001b[1;33m]\u001b[0m \u001b[1;33m=\u001b[0m \u001b[0mself\u001b[0m\u001b[1;33m.\u001b[0m\u001b[0mbars\u001b[0m\u001b[1;33m[\u001b[0m\u001b[1;34m'Close_Out'\u001b[0m\u001b[1;33m]\u001b[0m\u001b[1;33m-\u001b[0m\u001b[0mself\u001b[0m\u001b[1;33m.\u001b[0m\u001b[0mbars\u001b[0m\u001b[1;33m[\u001b[0m\u001b[1;34m'Open_Out'\u001b[0m\u001b[1;33m]\u001b[0m\u001b[1;33m\u001b[0m\u001b[0m\n\u001b[0m\u001b[0;32m     40\u001b[0m         \u001b[0mportfolio\u001b[0m\u001b[1;33m[\u001b[0m\u001b[1;34m'price_diff'\u001b[0m\u001b[1;33m]\u001b[0m\u001b[1;33m[\u001b[0m\u001b[1;36m0\u001b[0m\u001b[1;33m:\u001b[0m\u001b[1;36m5\u001b[0m\u001b[1;33m]\u001b[0m \u001b[1;33m=\u001b[0m \u001b[1;36m0.0\u001b[0m\u001b[1;33m\u001b[0m\u001b[0m\n\u001b[0;32m     41\u001b[0m         \u001b[0mportfolio\u001b[0m\u001b[1;33m[\u001b[0m\u001b[1;34m'profit'\u001b[0m\u001b[1;33m]\u001b[0m \u001b[1;33m=\u001b[0m \u001b[0mself\u001b[0m\u001b[1;33m.\u001b[0m\u001b[0mpositions\u001b[0m\u001b[1;33m[\u001b[0m\u001b[0mself\u001b[0m\u001b[1;33m.\u001b[0m\u001b[0msymbol\u001b[0m\u001b[1;33m]\u001b[0m \u001b[1;33m*\u001b[0m \u001b[0mportfolio\u001b[0m\u001b[1;33m[\u001b[0m\u001b[1;34m'price_diff'\u001b[0m\u001b[1;33m]\u001b[0m\u001b[1;33m\u001b[0m\u001b[0m\n",
      "\u001b[1;32mc:\\Python34\\lib\\site-packages\\pandas\\core\\frame.py\u001b[0m in \u001b[0;36m__getitem__\u001b[1;34m(self, key)\u001b[0m\n\u001b[0;32m   1795\u001b[0m             \u001b[1;32mreturn\u001b[0m \u001b[0mself\u001b[0m\u001b[1;33m.\u001b[0m\u001b[0m_getitem_multilevel\u001b[0m\u001b[1;33m(\u001b[0m\u001b[0mkey\u001b[0m\u001b[1;33m)\u001b[0m\u001b[1;33m\u001b[0m\u001b[0m\n\u001b[0;32m   1796\u001b[0m         \u001b[1;32melse\u001b[0m\u001b[1;33m:\u001b[0m\u001b[1;33m\u001b[0m\u001b[0m\n\u001b[1;32m-> 1797\u001b[1;33m             \u001b[1;32mreturn\u001b[0m \u001b[0mself\u001b[0m\u001b[1;33m.\u001b[0m\u001b[0m_getitem_column\u001b[0m\u001b[1;33m(\u001b[0m\u001b[0mkey\u001b[0m\u001b[1;33m)\u001b[0m\u001b[1;33m\u001b[0m\u001b[0m\n\u001b[0m\u001b[0;32m   1798\u001b[0m \u001b[1;33m\u001b[0m\u001b[0m\n\u001b[0;32m   1799\u001b[0m     \u001b[1;32mdef\u001b[0m \u001b[0m_getitem_column\u001b[0m\u001b[1;33m(\u001b[0m\u001b[0mself\u001b[0m\u001b[1;33m,\u001b[0m \u001b[0mkey\u001b[0m\u001b[1;33m)\u001b[0m\u001b[1;33m:\u001b[0m\u001b[1;33m\u001b[0m\u001b[0m\n",
      "\u001b[1;32mc:\\Python34\\lib\\site-packages\\pandas\\core\\frame.py\u001b[0m in \u001b[0;36m_getitem_column\u001b[1;34m(self, key)\u001b[0m\n\u001b[0;32m   1802\u001b[0m         \u001b[1;31m# get column\u001b[0m\u001b[1;33m\u001b[0m\u001b[1;33m\u001b[0m\u001b[0m\n\u001b[0;32m   1803\u001b[0m         \u001b[1;32mif\u001b[0m \u001b[0mself\u001b[0m\u001b[1;33m.\u001b[0m\u001b[0mcolumns\u001b[0m\u001b[1;33m.\u001b[0m\u001b[0mis_unique\u001b[0m\u001b[1;33m:\u001b[0m\u001b[1;33m\u001b[0m\u001b[0m\n\u001b[1;32m-> 1804\u001b[1;33m             \u001b[1;32mreturn\u001b[0m \u001b[0mself\u001b[0m\u001b[1;33m.\u001b[0m\u001b[0m_get_item_cache\u001b[0m\u001b[1;33m(\u001b[0m\u001b[0mkey\u001b[0m\u001b[1;33m)\u001b[0m\u001b[1;33m\u001b[0m\u001b[0m\n\u001b[0m\u001b[0;32m   1805\u001b[0m \u001b[1;33m\u001b[0m\u001b[0m\n\u001b[0;32m   1806\u001b[0m         \u001b[1;31m# duplicate columns & possible reduce dimensionaility\u001b[0m\u001b[1;33m\u001b[0m\u001b[1;33m\u001b[0m\u001b[0m\n",
      "\u001b[1;32mc:\\Python34\\lib\\site-packages\\pandas\\core\\generic.py\u001b[0m in \u001b[0;36m_get_item_cache\u001b[1;34m(self, item)\u001b[0m\n\u001b[0;32m   1082\u001b[0m         \u001b[0mres\u001b[0m \u001b[1;33m=\u001b[0m \u001b[0mcache\u001b[0m\u001b[1;33m.\u001b[0m\u001b[0mget\u001b[0m\u001b[1;33m(\u001b[0m\u001b[0mitem\u001b[0m\u001b[1;33m)\u001b[0m\u001b[1;33m\u001b[0m\u001b[0m\n\u001b[0;32m   1083\u001b[0m         \u001b[1;32mif\u001b[0m \u001b[0mres\u001b[0m \u001b[1;32mis\u001b[0m \u001b[1;32mNone\u001b[0m\u001b[1;33m:\u001b[0m\u001b[1;33m\u001b[0m\u001b[0m\n\u001b[1;32m-> 1084\u001b[1;33m             \u001b[0mvalues\u001b[0m \u001b[1;33m=\u001b[0m \u001b[0mself\u001b[0m\u001b[1;33m.\u001b[0m\u001b[0m_data\u001b[0m\u001b[1;33m.\u001b[0m\u001b[0mget\u001b[0m\u001b[1;33m(\u001b[0m\u001b[0mitem\u001b[0m\u001b[1;33m)\u001b[0m\u001b[1;33m\u001b[0m\u001b[0m\n\u001b[0m\u001b[0;32m   1085\u001b[0m             \u001b[0mres\u001b[0m \u001b[1;33m=\u001b[0m \u001b[0mself\u001b[0m\u001b[1;33m.\u001b[0m\u001b[0m_box_item_values\u001b[0m\u001b[1;33m(\u001b[0m\u001b[0mitem\u001b[0m\u001b[1;33m,\u001b[0m \u001b[0mvalues\u001b[0m\u001b[1;33m)\u001b[0m\u001b[1;33m\u001b[0m\u001b[0m\n\u001b[0;32m   1086\u001b[0m             \u001b[0mcache\u001b[0m\u001b[1;33m[\u001b[0m\u001b[0mitem\u001b[0m\u001b[1;33m]\u001b[0m \u001b[1;33m=\u001b[0m \u001b[0mres\u001b[0m\u001b[1;33m\u001b[0m\u001b[0m\n",
      "\u001b[1;32mc:\\Python34\\lib\\site-packages\\pandas\\core\\internals.py\u001b[0m in \u001b[0;36mget\u001b[1;34m(self, item, fastpath)\u001b[0m\n\u001b[0;32m   2849\u001b[0m \u001b[1;33m\u001b[0m\u001b[0m\n\u001b[0;32m   2850\u001b[0m             \u001b[1;32mif\u001b[0m \u001b[1;32mnot\u001b[0m \u001b[0misnull\u001b[0m\u001b[1;33m(\u001b[0m\u001b[0mitem\u001b[0m\u001b[1;33m)\u001b[0m\u001b[1;33m:\u001b[0m\u001b[1;33m\u001b[0m\u001b[0m\n\u001b[1;32m-> 2851\u001b[1;33m                 \u001b[0mloc\u001b[0m \u001b[1;33m=\u001b[0m \u001b[0mself\u001b[0m\u001b[1;33m.\u001b[0m\u001b[0mitems\u001b[0m\u001b[1;33m.\u001b[0m\u001b[0mget_loc\u001b[0m\u001b[1;33m(\u001b[0m\u001b[0mitem\u001b[0m\u001b[1;33m)\u001b[0m\u001b[1;33m\u001b[0m\u001b[0m\n\u001b[0m\u001b[0;32m   2852\u001b[0m             \u001b[1;32melse\u001b[0m\u001b[1;33m:\u001b[0m\u001b[1;33m\u001b[0m\u001b[0m\n\u001b[0;32m   2853\u001b[0m                 \u001b[0mindexer\u001b[0m \u001b[1;33m=\u001b[0m \u001b[0mnp\u001b[0m\u001b[1;33m.\u001b[0m\u001b[0marange\u001b[0m\u001b[1;33m(\u001b[0m\u001b[0mlen\u001b[0m\u001b[1;33m(\u001b[0m\u001b[0mself\u001b[0m\u001b[1;33m.\u001b[0m\u001b[0mitems\u001b[0m\u001b[1;33m)\u001b[0m\u001b[1;33m)\u001b[0m\u001b[1;33m[\u001b[0m\u001b[0misnull\u001b[0m\u001b[1;33m(\u001b[0m\u001b[0mself\u001b[0m\u001b[1;33m.\u001b[0m\u001b[0mitems\u001b[0m\u001b[1;33m)\u001b[0m\u001b[1;33m]\u001b[0m\u001b[1;33m\u001b[0m\u001b[0m\n",
      "\u001b[1;32mc:\\Python34\\lib\\site-packages\\pandas\\core\\index.py\u001b[0m in \u001b[0;36mget_loc\u001b[1;34m(self, key, method)\u001b[0m\n\u001b[0;32m   1570\u001b[0m         \"\"\"\n\u001b[0;32m   1571\u001b[0m         \u001b[1;32mif\u001b[0m \u001b[0mmethod\u001b[0m \u001b[1;32mis\u001b[0m \u001b[1;32mNone\u001b[0m\u001b[1;33m:\u001b[0m\u001b[1;33m\u001b[0m\u001b[0m\n\u001b[1;32m-> 1572\u001b[1;33m             \u001b[1;32mreturn\u001b[0m \u001b[0mself\u001b[0m\u001b[1;33m.\u001b[0m\u001b[0m_engine\u001b[0m\u001b[1;33m.\u001b[0m\u001b[0mget_loc\u001b[0m\u001b[1;33m(\u001b[0m\u001b[0m_values_from_object\u001b[0m\u001b[1;33m(\u001b[0m\u001b[0mkey\u001b[0m\u001b[1;33m)\u001b[0m\u001b[1;33m)\u001b[0m\u001b[1;33m\u001b[0m\u001b[0m\n\u001b[0m\u001b[0;32m   1573\u001b[0m \u001b[1;33m\u001b[0m\u001b[0m\n\u001b[0;32m   1574\u001b[0m         \u001b[0mindexer\u001b[0m \u001b[1;33m=\u001b[0m \u001b[0mself\u001b[0m\u001b[1;33m.\u001b[0m\u001b[0mget_indexer\u001b[0m\u001b[1;33m(\u001b[0m\u001b[1;33m[\u001b[0m\u001b[0mkey\u001b[0m\u001b[1;33m]\u001b[0m\u001b[1;33m,\u001b[0m \u001b[0mmethod\u001b[0m\u001b[1;33m=\u001b[0m\u001b[0mmethod\u001b[0m\u001b[1;33m)\u001b[0m\u001b[1;33m\u001b[0m\u001b[0m\n",
      "\u001b[1;32mpandas\\index.pyx\u001b[0m in \u001b[0;36mpandas.index.IndexEngine.get_loc (pandas\\index.c:3824)\u001b[1;34m()\u001b[0m\n",
      "\u001b[1;32mpandas\\index.pyx\u001b[0m in \u001b[0;36mpandas.index.IndexEngine.get_loc (pandas\\index.c:3704)\u001b[1;34m()\u001b[0m\n",
      "\u001b[1;32mpandas\\hashtable.pyx\u001b[0m in \u001b[0;36mpandas.hashtable.PyObjectHashTable.get_item (pandas\\hashtable.c:12280)\u001b[1;34m()\u001b[0m\n",
      "\u001b[1;32mpandas\\hashtable.pyx\u001b[0m in \u001b[0;36mpandas.hashtable.PyObjectHashTable.get_item (pandas\\hashtable.c:12231)\u001b[1;34m()\u001b[0m\n",
      "\u001b[1;31mKeyError\u001b[0m: 'Close_Out'"
     ]
    }
   ],
   "source": [
    "from portfolio import MarketIntradayPortfolio\n",
    "\n",
    "# calling portfolio evaluation on signals (predicted returns) and bars \n",
    "# (actual returns)\n",
    "portfolio = MarketIntradayPortfolio(symbol, bars, signals)\n",
    "\n",
    "# backtesting the portfolio and generating returns on top of that \n",
    "returns = portfolio.backtest_portfolio()\n",
    "returns"
   ]
  },
  {
   "cell_type": "code",
   "execution_count": null,
   "metadata": {
    "collapsed": true
   },
   "outputs": [],
   "source": []
  }
 ],
 "metadata": {
  "anaconda-cloud": {},
  "kernelspec": {
   "display_name": "Python 3",
   "language": "python",
   "name": "python3"
  },
  "language_info": {
   "codemirror_mode": {
    "name": "ipython",
    "version": 3
   },
   "file_extension": ".py",
   "mimetype": "text/x-python",
   "name": "python",
   "nbconvert_exporter": "python",
   "pygments_lexer": "ipython3",
   "version": "3.4.3"
  }
 },
 "nbformat": 4,
 "nbformat_minor": 0
}
